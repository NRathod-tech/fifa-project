{
 "cells": [
  {
   "cell_type": "code",
   "execution_count": 12,
   "metadata": {},
   "outputs": [],
   "source": [
    "# import the modules\n",
    "import pandas as pd\n",
    "import numpy as np\n",
    "import matplotlib.pyplot as plt\n",
    "from sklearn.model_selection import train_test_split, cross_val_score\n",
    "from sklearn.linear_model import LinearRegression, Lasso, Ridge\n",
    "from sklearn.preprocessing import PolynomialFeatures\n",
    "from sklearn.pipeline import make_pipeline\n",
    "from sklearn.metrics import mean_squared_error, r2_score\n",
    "import seaborn as sns\n",
    "import warnings\n",
    "warnings.filterwarnings(\"ignore\")"
   ]
  },
  {
   "cell_type": "markdown",
   "metadata": {},
   "source": [
    "### Load the dataset\n",
    "\n",
    "- Load the train data and using all your knowledge of pandas try to explore the different statistical properties of the dataset."
   ]
  },
  {
   "cell_type": "code",
   "execution_count": 3,
   "metadata": {},
   "outputs": [
    {
     "name": "stdout",
     "output_type": "stream",
     "text": [
      "Shape of the train data is:  (14384, 10)\n",
      "\n",
      "Statistical Properties of the train data are as follows: \n",
      "                 Id           Age       Overall     Potential     Value (M)  \\\n",
      "count  14384.000000  14384.000000  14384.000000  14384.000000  14384.000000   \n",
      "mean    8992.892728     25.148776     66.237695     71.181869      2.344967   \n",
      "std     5183.996368      4.620911      6.954458      6.074111      5.105376   \n",
      "min        0.000000     16.000000     46.000000     46.000000      0.000000   \n",
      "25%     4480.750000     21.000000     62.000000     67.000000      0.300000   \n",
      "50%     9001.500000     25.000000     66.000000     71.000000      0.675000   \n",
      "75%    13470.250000     28.000000     71.000000     75.000000      2.100000   \n",
      "max    17980.000000     47.000000     94.000000     94.000000    105.000000   \n",
      "\n",
      "           Wage (M)  \n",
      "count  14384.000000  \n",
      "mean       0.011435  \n",
      "std        0.022614  \n",
      "min        0.000000  \n",
      "25%        0.002000  \n",
      "50%        0.004000  \n",
      "75%        0.012000  \n",
      "max        0.565000  \n",
      "\n",
      "Skewness for the different features is as shown below: \n",
      "Age          0.387514\n",
      "Overall     -0.006657\n",
      "Potential    0.204984\n",
      "Value (M)    6.597601\n",
      "Wage (M)     7.382001\n",
      "dtype: float64\n"
     ]
    },
    {
     "data": {
      "image/png": "[encoded data removed]",
      "text/plain": [
       "<Figure size 432x288 with 1 Axes>"
      ]
     },
     "metadata": {
      "needs_background": "light"
     },
     "output_type": "display_data"
    }
   ],
   "source": [
    "# read the dataset and extract the features and target separately\n",
    "\n",
    "# Load the train data\n",
    "train = pd.read_csv('train.csv')\n",
    "\n",
    "# Shape of the data\n",
    "print('Shape of the train data is: ',train.shape)\n",
    "\n",
    "print()\n",
    "\n",
    "# Statistical properties of the data.\n",
    "print('Statistical Properties of the train data are as follows: ')\n",
    "print(train.describe())\n",
    "\n",
    "# Drop the Id.\n",
    "train.drop(['Id','Name','Nationality','Club','Position'],1,inplace=True)\n",
    "\n",
    "# Checking for the distribution of the target\n",
    "train['Value (M)'].value_counts().plot(kind='bar')\n",
    "plt.title('Class Distribution of target')\n",
    "plt.xlabel('Value (M)')\n",
    "plt.ylabel('Distribution')\n",
    "\n",
    "print()\n",
    "\n",
    "# Checking for skewness in the features\n",
    "print('Skewness for the different features is as shown below: ')\n",
    "print(train.skew())\n"
   ]
  },
  {
   "cell_type": "markdown",
   "metadata": {},
   "source": [
    "### Visualize the data\n",
    "\n",
    "- Check for the categorical & continuous features. \n",
    "- Check out the best plots for plotting between categorical target and continuous features and try making some inferences from these plots.\n",
    "- Check for the correlation between the features"
   ]
  },
  {
   "cell_type": "code",
   "execution_count": 4,
   "metadata": {},
   "outputs": [
    {
     "name": "stdout",
     "output_type": "stream",
     "text": [
      "                Age   Overall  Potential  Value (M)  Wage (M)\n",
      "Age        1.000000  0.459678  -0.224055   0.082716  0.149757\n",
      "Overall    0.459678  1.000000   0.678228   0.635618  0.589736\n",
      "Potential -0.224055  0.678228   1.000000   0.595095  0.512910\n",
      "Value (M)  0.082716  0.635618   0.595095   1.000000  0.845124\n",
      "Wage (M)   0.149757  0.589736   0.512910   0.845124  1.000000\n"
     ]
    }
   ],
   "source": [
    "# check correlation\n",
    "corr=train.corr()\n",
    "\n",
    "# print correlation\n",
    "print(corr)"
   ]
  },
  {
   "cell_type": "markdown",
   "metadata": {},
   "source": [
    "### Model building\n",
    "\n",
    "- Separate the features and target and then split the train data into train and validation set.\n",
    "- Now let's come to the actual task, using linear regression, predict the `Value (M)`. \n",
    "- Try improving upon the `r2_score` (R-Square) using different parameters that give the best score. You can use higher degree [Polynomial Features of sklearn](https://scikit-learn.org/stable/modules/generated/sklearn.preprocessing.PolynomialFeatures.html) to improve the model prediction. \n",
    "\n"
   ]
  },
  {
   "cell_type": "code",
   "execution_count": 5,
   "metadata": {},
   "outputs": [
    {
     "name": "stdout",
     "output_type": "stream",
     "text": [
      "0.7532264477008926\n"
     ]
    }
   ],
   "source": [
    "# code statr here\n",
    "\n",
    "X = train.drop('Value (M)',axis=1)\n",
    "\n",
    "# store dependent variable\n",
    "y = train['Value (M)']\n",
    "\n",
    "# spliting the dataframe\n",
    "\n",
    "X_train,X_val,y_train,y_val=train_test_split(X,y ,test_size=0.3,random_state=8)\n",
    "\n",
    "#Instantiate linear regression model\n",
    "regressor=LinearRegression()\n",
    "\n",
    "# fit the model\n",
    "regressor.fit(X_train,y_train)\n",
    "\n",
    "# predict the result\n",
    "y_pred =regressor.predict(X_val)\n",
    "\n",
    "\n",
    "# Calculate r2_score\n",
    "r2 = r2_score(y_val, y_pred)\n",
    "\n",
    "#print r2\n",
    "print(r2)"
   ]
  },
  {
   "cell_type": "code",
   "execution_count": 9,
   "metadata": {},
   "outputs": [
    {
     "name": "stdout",
     "output_type": "stream",
     "text": [
      "0.4712999653671721\n"
     ]
    }
   ],
   "source": [
    "# Predict the price of the house using a lasso regressor. Check if there is any improvement in the prediction.\n",
    "\n",
    "# instantiate lasso model\n",
    "lasso = Lasso()\n",
    "\n",
    "# fit and predict\n",
    "lasso.fit(X_train, y_train)\n",
    "lasso_pred = lasso.predict(X_val)\n",
    "\n",
    "# calculate RMSE\n",
    "r2_lasso = r2_score(y_val, lasso_pred)\n",
    "print (r2_lasso)"
   ]
  },
  {
   "cell_type": "code",
   "execution_count": 10,
   "metadata": {},
   "outputs": [
    {
     "name": "stdout",
     "output_type": "stream",
     "text": [
      "0.7479414713481627\n"
     ]
    }
   ],
   "source": [
    "# Let's check the house price prediction using a ridge regressor.\n",
    "\n",
    "# instantiate lasso model\n",
    "ridge = Ridge()\n",
    "\n",
    "# fit and predict\n",
    "ridge.fit(X_train, y_train)\n",
    "ridge_pred = ridge.predict(X_val)\n",
    "\n",
    "# calculate RMSE)\n",
    "r2_ridge = r2_score(y_val, ridge_pred)\n",
    "print (r2_ridge)"
   ]
  },
  {
   "cell_type": "code",
   "execution_count": 13,
   "metadata": {},
   "outputs": [
    {
     "name": "stdout",
     "output_type": "stream",
     "text": [
      "[0.79758503 0.74959256 0.76238665 0.81407424 0.77163084 0.72984053\n",
      " 0.72219165 0.63460243 0.8066206  0.73447859]\n",
      "0.7523003108586785\n"
     ]
    }
   ],
   "source": [
    "# Next predict the house price using cross-validated estimators which are the part of the Model selection: choosing estimators and their parameters.\n",
    "\n",
    "# Initiate Linear Regression Model\n",
    "regressor=LinearRegression()\n",
    "\n",
    "# Initiate cross validation score\n",
    "score= cross_val_score(regressor,X_train,y_train ,scoring= 'r2' ,cv=10)\n",
    "print(score)\n",
    "#calculate mean of the score\n",
    "mean_score = np.mean(score)\n",
    "\n",
    "# print mean score\n",
    "print(mean_score)"
   ]
  },
  {
   "cell_type": "markdown",
   "metadata": {},
   "source": [
    "### Prediction on the test data and creating the sample submission file.\n",
    "\n",
    "- Load the test data and store the `Id` column in a separate variable.\n",
    "- Perform the same operations on the test data that you have performed on the train data.\n",
    "- Create the submission file as a `csv` file consisting of the `Id` column from the test data and your prediction as the second column."
   ]
  },
  {
   "cell_type": "code",
   "execution_count": 6,
   "metadata": {},
   "outputs": [
    {
     "ename": "NameError",
     "evalue": "name 'model' is not defined",
     "output_type": "error",
     "traceback": [
      "\u001b[0;31m---------------------------------------------------------------------------\u001b[0m",
      "\u001b[0;31mNameError\u001b[0m                                 Traceback (most recent call last)",
      "\u001b[0;32m<ipython-input-6-caaf956ea44b>\u001b[0m in \u001b[0;36m<module>\u001b[0;34m\u001b[0m\n\u001b[1;32m     13\u001b[0m \u001b[0;34m\u001b[0m\u001b[0m\n\u001b[1;32m     14\u001b[0m \u001b[0;31m# Predict on the test data using the best model\u001b[0m\u001b[0;34m\u001b[0m\u001b[0;34m\u001b[0m\u001b[0;34m\u001b[0m\u001b[0m\n\u001b[0;32m---> 15\u001b[0;31m \u001b[0my_pred_test\u001b[0m \u001b[0;34m=\u001b[0m \u001b[0mmodel\u001b[0m\u001b[0;34m.\u001b[0m\u001b[0mpredict\u001b[0m\u001b[0;34m(\u001b[0m\u001b[0mtest\u001b[0m\u001b[0;34m)\u001b[0m\u001b[0;34m\u001b[0m\u001b[0;34m\u001b[0m\u001b[0m\n\u001b[0m\u001b[1;32m     16\u001b[0m \u001b[0;34m\u001b[0m\u001b[0m\n\u001b[1;32m     17\u001b[0m \u001b[0;31m# Create a sample submission file\u001b[0m\u001b[0;34m\u001b[0m\u001b[0;34m\u001b[0m\u001b[0;34m\u001b[0m\u001b[0m\n",
      "\u001b[0;31mNameError\u001b[0m: name 'model' is not defined"
     ]
    }
   ],
   "source": [
    "# Code Start here\n",
    "\n",
    "# Prediction on test data\n",
    "\n",
    "# Read the test data\n",
    "test = pd.read_csv('test.csv')\n",
    "\n",
    "# Storing the id from the test file\n",
    "id_ = test['Id']\n",
    "\n",
    "# Applying the same transformation on test data\n",
    "test.drop(['Id','Name','Nationality','Club','Position'],1,inplace=True)\n",
    "\n",
    "# Predict on the test data using the best model\n",
    "y_pred_test = model.predict(test)\n",
    "\n",
    "# Create a sample submission file\n",
    "sample_submission = pd.DataFrame({'Id':id_,'Value (M)':y_pred_test})\n",
    "\n",
    "# Convert the sample submission file into a csv file\n",
    "sample_submission.to_csv('FIFAsubmission1.csv',index=False)\n",
    "\n",
    "# Code end here"
   ]
  },
  {
   "cell_type": "code",
   "execution_count": null,
   "metadata": {},
   "outputs": [],
   "source": []
  }
 ],
 "metadata": {
  "kernelspec": {
   "display_name": "Python 3",
   "language": "python",
   "name": "python3"
  },
  "language_info": {
   "codemirror_mode": {
    "name": "ipython",
    "version": 3
   },
   "file_extension": ".py",
   "mimetype": "text/x-python",
   "name": "python",
   "nbconvert_exporter": "python",
   "pygments_lexer": "ipython3",
   "version": "3.7.6"
  }
 },
 "nbformat": 4,
 "nbformat_minor": 4
}
